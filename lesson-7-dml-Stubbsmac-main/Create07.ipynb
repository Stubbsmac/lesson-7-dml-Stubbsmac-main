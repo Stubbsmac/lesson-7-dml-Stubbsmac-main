{
    "metadata": {
        "kernelspec": {
            "name": "SQL",
            "display_name": "SQL",
            "language": "sql"
        },
        "language_info": {
            "name": "sql",
            "version": ""
        }
    },
    "nbformat_minor": 2,
    "nbformat": 4,
    "cells": [
        {
            "cell_type": "markdown",
            "source": [
                "# Data Definition Language (DDL)\n",
                "\n",
                "## **Introduction**\n",
                "\n",
                "Data Definition Language (DDL) is a subset of SQL that is used to define and modify database structures. DDL is focused on the creation, alteration, and deletion of database structures like tables.\n",
                "\n",
                "**Data Definition Language Keywords:**\n",
                "\n",
                "- CREATE- Used to create new database objects\n",
                "- ALTER- Used to modify database objects\n",
                "- DROP- Deletes database objects\n",
                "\n",
                "<span style=\"font-family: -apple-system, BlinkMacSystemFont, sans-serif; color: var(--vscode-foreground);\">It is crucial that you have an understanding of both DDL and DML to properly administrate and interact with a database. Up to this point we have focused on data retrevial techniques like forming SELECT queries using JOINs, Aggregation, and subqueries, as well as DML operations like INSERT, UPDATE, and DELETE.&nbsp;</span>   \n",
                "\n",
                "## **Creating Tables**\n",
                "\n",
                "We can use SQL to Create tables by defining their schema (or structure). This is the most foundational database skill. If your tables are not setup correctly then you will have ripple effects of those issues through your entire data pipeline. All the way from storage to representation. It's for this reason that we use ERDs and other planning tools to understand our table structure before we commit it to the database. For each field that we want to add to the table we need to include the name of the field, as well as the data type. There is other information that we could include, like whether the field is allowed to be null, or if it is a primary key. To become more familiar with SQL data types, please review the linked [W3 School page on SQL Data types](https://www.w3schools.com/sql/sql_datatypes.asp#midcontentadcontainer).\n",
                "\n",
                "For this notebook we will not be using tables that have already been created. Instead we will be making a set of database tables from scatch. Our database tables will store data related to college tours. This database will use four tables:\n",
                "\n",
                "- ct\\_tour\\_guide (data about tour guides)\n",
                "- ct\\_tour (data bout tours)\n",
                "- ct\\_tour\\_group (junction table linking visitors to tours)\n",
                "- ct\\_visitor (data about visitors that go on tours)\n",
                "\n",
                "Please see the attached ERD on github for details on relationships and fields. You may notice text/entities that are different colors. This indicates that we will be adding them throughout the exercise, so if you do not see them during initial creation, don't worry!\n",
                "\n",
                "  \n",
                "\n",
                "The below cell selects all data from the ct\\_tour\\_guide table:"
            ],
            "metadata": {
                "azdata_cell_guid": "f39be485-00e7-46a6-93a0-95efef92cf2f"
            },
            "attachments": {}
        },
        {
            "cell_type": "code",
            "source": [
                "--Display all information for tour guides\n",
                "SELECT *\n",
                "FROM ct_tour_guide\n",
                "--See text cell below"
            ],
            "metadata": {
                "azdata_cell_guid": "6a08a14d-13ff-4bba-9c60-123956fd0bc2",
                "language": "sql"
            },
            "outputs": [],
            "execution_count": null
        },
        {
            "cell_type": "markdown",
            "source": [
                "The above cell should return an error stating that the table does not exists. That is because you will be creating it yourself! The below cell will create the ct\\_tour\\_guide table:"
            ],
            "metadata": {
                "azdata_cell_guid": "c927854e-54e0-4ad2-a42a-878fa1a89284"
            },
            "attachments": {}
        },
        {
            "cell_type": "code",
            "source": [
                "--Create ct_tour_guide table\n",
                "CREATE TABLE ct_tour_guide (\n",
                "    tour_guide_id INT,\n",
                "    guide_first_name VARCHAR(15),\n",
                "    guide_last_name VARCHAR(30),\n",
                ")"
            ],
            "metadata": {
                "azdata_cell_guid": "267ce2f4-1f63-46a1-9d81-bb7e9e9c17c1",
                "language": "sql"
            },
            "outputs": [],
            "execution_count": null
        },
        {
            "cell_type": "markdown",
            "source": [
                "After the above command executes succesfully, you will be able to access the newly created ct\\_tour\\_guide table. Please not the structure of the above statement. We start with a CREATE TABLE clause where we note the name of the table. Afterwards, in parenthesis, we list each attribute/field name and it's data type. These are separated by commas. This is a very basic table creation statement.  We will be learning about how to make our CREATE statements more powerful later.\n",
                "\n",
                "There are no records in this table. In the below cell we will create a transacation to add some records:"
            ],
            "metadata": {
                "language": "sql",
                "azdata_cell_guid": "253f8bab-f17e-49af-9d41-f3497541eedc"
            },
            "attachments": {}
        },
        {
            "cell_type": "code",
            "source": [
                "--Transaction to add records into ct_tour_guide table\n",
                "BEGIN TRANSACTION;\n",
                "    BEGIN TRY\n",
                "        INSERT INTO ct_tour_guide VALUES\n",
                "        (1,'Kristi','Chapman'),\n",
                "        (2,'Kelli','Cragin'),\n",
                "        (3,'Jim','Riggs'),\n",
                "        (4,'Denna','Clymer'),\n",
                "        (5,'Chett','Daniel');\n",
                "        COMMIT;\n",
                "    END TRY\n",
                "    BEGIN CATCH\n",
                "        PRINT 'Error Message: ' + ERROR_MESSAGE();\n",
                "        ROLLBACK;\n",
                "    END CATCH"
            ],
            "metadata": {
                "language": "sql",
                "azdata_cell_guid": "5f6307ac-f7ef-44e0-ba99-c6f7bbde1248"
            },
            "outputs": [],
            "execution_count": null
        },
        {
            "cell_type": "code",
            "source": [
                "--Check to see if records are added\n",
                "SELECT *\n",
                "FROM ct_tour_guide"
            ],
            "metadata": {
                "azdata_cell_guid": "fe3a6b91-08a2-460c-bd15-2b89ca804669",
                "language": "sql"
            },
            "outputs": [],
            "execution_count": null
        },
        {
            "cell_type": "markdown",
            "source": [
                "That takes care of setting up data for one table. Now we will create the three remaining tables and add data to them. We can do this all in one script by setting up a transaction that includes both DDL for creating the tables and DML for adding to them. While we could do this all in one go, I am going to split this operation across three cells, one for each table. Sometimes these statements can be lengthy, to free up space in the notebook you can collapse/uncollapse a cell by clicking the arrow glyph at the bottom. The below cells have been collapsed. Please open and view them as you run each."
            ],
            "metadata": {
                "azdata_cell_guid": "26329183-d0a8-4780-8d9b-d76331464400"
            },
            "attachments": {}
        },
        {
            "cell_type": "code",
            "source": [
                "--Create ct_tour table and add records\n",
                "BEGIN TRANSACTION;\n",
                "    BEGIN TRY\n",
                "        --Create ct_tour table\n",
                "        CREATE TABLE ct_tour (\n",
                "            tour_id INT,\n",
                "            tour_guide_id INT,\n",
                "            tour_date DATETIME\n",
                "        );\n",
                "        --Insert records for tours\n",
                "        INSERT INTO ct_tour VALUES\n",
                "        (1,1,'2024-5-10'),\n",
                "        (2,1,'2024-6-11'),\n",
                "        (3,1,'2024-6-15'),\n",
                "        (4,2,'2024-6-17'),\n",
                "        (5,3,'2024-6-21'),\n",
                "        (6,3,'2024-6-24'),\n",
                "        (7,4,'2024-6-24'),\n",
                "        (8,4,'2024-6-25'),\n",
                "        (9,5,'2024-6-28');\n",
                "        COMMIT;\n",
                "    END TRY\n",
                "    BEGIN CATCH\n",
                "        PRINT 'Error Message: ' + ERROR_MESSAGE();\n",
                "        ROLLBACK;\n",
                "    END CATCH;"
            ],
            "metadata": {
                "azdata_cell_guid": "9dcf0712-3fd2-45d9-9e47-006111119785",
                "language": "sql",
                "tags": [
                    "hide_input"
                ]
            },
            "outputs": [],
            "execution_count": null
        },
        {
            "cell_type": "code",
            "source": [
                "--Create ct_visitor table and add records\n",
                "BEGIN TRANSACTION;\n",
                "    BEGIN TRY\n",
                "        --Create ct_visitor table\n",
                "        CREATE TABLE ct_visitor (\n",
                "            visitor_id INT,\n",
                "            visitor_first_name varchar(15),\n",
                "            visitor_last_name varchar(30),\n",
                "            phone_number varchar(11),\n",
                "            email_address varchar(50)\n",
                "        );\n",
                "        --Insert records for visitors\n",
                "        INSERT INTO ct_visitor VALUES\n",
                "        (1, 'John', 'Doe', '1234567890', 'john.doe@example.com'),\n",
                "        (2, 'Jane', 'Smith', '0987654321', 'jane.smith@example.com'),\n",
                "        (3, 'Alice', 'Johnson', '1112223333', 'alice.johnson@example.com'),\n",
                "        (4, 'Bob', 'Brown', '4445556666', 'bob.brown@example.com'),\n",
                "        (5, 'Charlie', 'Davis', '7778889999', 'charlie.davis@example.com'),\n",
                "        (6, 'Diana', 'Miller', '1010101010', 'diana.miller@example.com'),\n",
                "        (7, 'Eve', 'Wilson', '2020202020', 'eve.wilson@example.com'),\n",
                "        (8, 'Frank', 'Moore', '3030303030', 'frank.moore@example.com'),\n",
                "        (9, 'Grace', 'Taylor', '4040404040', 'grace.taylor@example.com'),\n",
                "        (10, 'Hank', 'Anderson', '5050505050', 'hank.anderson@example.com'),\n",
                "        (11, 'Ivy', 'Thomas', '6060606060', 'ivy.thomas@example.com'),\n",
                "        (12, 'Jack', 'Jackson', '7070707070', 'jack.jackson@example.com'),\n",
                "        (13, 'Karen', 'White', '8080808080', 'karen.white@example.com'),\n",
                "        (14, 'Leo', 'Harris', '9090909090', 'leo.harris@example.com'),\n",
                "        (15, 'Mia', 'Martin', '1122334455', 'mia.martin@example.com'),\n",
                "        (16, 'Nina', 'Thompson', '2233445566', 'nina.thompson@example.com'),\n",
                "        (17, 'Oscar', 'Garcia', '3344556677', 'oscar.garcia@example.com'),\n",
                "        (18, 'Paul', 'Martinez', '4455667788', 'paul.martinez@example.com'),\n",
                "        (19, 'Quincy', 'Robinson', '5566778899', 'quincy.robinson@example.com'),\n",
                "        (20, 'Rachel', 'Clark', '6677889900', 'rachel.clark@example.com'),\n",
                "        (21, 'Sam', 'Rodriguez', '7788990011', 'sam.rodriguez@example.com'),\n",
                "        (22, 'Tina', 'Lewis', '8899001122', 'tina.lewis@example.com'),\n",
                "        (23, 'Uma', 'Lee', '9900112233', 'uma.lee@example.com'),\n",
                "        (24, 'Victor', 'Walker', '1100110011', 'victor.walker@example.com'),\n",
                "        (25, 'Wendy', 'Hall', '2200220022', 'wendy.hall@example.com'),\n",
                "        (26, 'Xander', 'Allen', '3300330033', 'xander.allen@example.com'),\n",
                "        (27, 'Yara', 'Young', '4400440044', 'yara.young@example.com'),\n",
                "        (28, 'Zack', 'King', '5500550055', 'zack.king@example.com'),\n",
                "        (29, 'Amy', 'Scott', '6600660066', 'amy.scott@example.com'),\n",
                "        (30, 'Brian', 'Green', '7700770077', 'brian.green@example.com'),\n",
                "        (31, 'Cathy', 'Adams', '8800880088', 'cathy.adams@example.com'),\n",
                "        (32, 'David', 'Baker', '9900990099', 'david.baker@example.com'),\n",
                "        (33, 'Ellen', 'Gonzalez', '1010101011', 'ellen.gonzalez@example.com'),\n",
                "        (34, 'Fred', 'Nelson', '2020202022', 'fred.nelson@example.com'),\n",
                "        (35, 'Gina', 'Carter', '3030303033', 'gina.carter@example.com'),\n",
                "        (36, 'Harry', 'Mitchell', '4040404044', 'harry.mitchell@example.com'),\n",
                "        (37, 'Isla', 'Perez', '5050505055', 'isla.perez@example.com'),\n",
                "        (38, 'Jake', 'Roberts', '6060606066', 'jake.roberts@example.com'),\n",
                "        (39, 'Kara', 'Turner', '7070707077', 'kara.turner@example.com'),\n",
                "        (40, 'Liam', 'Phillips', '8080808088', 'liam.phillips@example.com'),\n",
                "        (41, 'Megan', 'Campbell', '9090909099', 'megan.campbell@example.com'),\n",
                "        (42, 'Nate', 'Parker', '1111111111', 'nate.parker@example.com'),\n",
                "        (43, 'Olivia', 'Evans', '2222222222', 'olivia.evans@example.com'),\n",
                "        (44, 'Pete', 'Edwards', '3333333333', 'pete.edwards@example.com'),\n",
                "        (45, 'Quinn', 'Collins', '4444444444', 'quinn.collins@example.com');\n",
                "        COMMIT;\n",
                "    END TRY\n",
                "    BEGIN CATCH\n",
                "        PRINT 'Error Message: ' + ERROR_MESSAGE();\n",
                "        ROLLBACK;\n",
                "    END CATCH;"
            ],
            "metadata": {
                "azdata_cell_guid": "d262f274-98ac-43fb-821f-0d11a6a403b5",
                "language": "sql",
                "tags": [
                    "hide_input"
                ]
            },
            "outputs": [],
            "execution_count": null
        },
        {
            "cell_type": "code",
            "source": [
                "--Create ct_tour_group table and add records\n",
                "BEGIN TRANSACTION;\n",
                "    BEGIN TRY\n",
                "        --Create ct_tour_group table\n",
                "        CREATE TABLE ct_tour_group (\n",
                "            tour_group_id INT,\n",
                "            tour_id INT,\n",
                "            visitor_id INT\n",
                "        );\n",
                "        --Insert records for tour_groups\n",
                "        INSERT INTO ct_tour_group VALUES\n",
                "        (1, 1, 1),\n",
                "        (2, 1, 2),\n",
                "        (3, 1, 3),\n",
                "        (4, 2, 4),\n",
                "        (5, 2, 5),\n",
                "        (6, 2, 6),\n",
                "        (7, 3, 7),\n",
                "        (8, 3, 8),\n",
                "        (9, 3, 9),\n",
                "        (10, 4, 10),\n",
                "        (11, 4, 11),\n",
                "        (12, 4, 12),\n",
                "        (13, 5, 13),\n",
                "        (14, 5, 14),\n",
                "        (15, 5, 15),\n",
                "        (16, 6, 16),\n",
                "        (17, 6, 17),\n",
                "        (18, 6, 18),\n",
                "        (19, 7, 19),\n",
                "        (20, 7, 20),\n",
                "        (21, 7, 21),\n",
                "        (22, 8, 22),\n",
                "        (23, 8, 23),\n",
                "        (24, 8, 24),\n",
                "        (25, 9, 25),\n",
                "        (26, 9, 26),\n",
                "        (27, 9, 27),\n",
                "        (28, 1, 28),\n",
                "        (29, 1, 29),\n",
                "        (30, 1, 30),\n",
                "        (31, 2, 31),\n",
                "        (32, 2, 32),\n",
                "        (33, 2, 33),\n",
                "        (34, 3, 34),\n",
                "        (35, 3, 35),\n",
                "        (36, 3, 36),\n",
                "        (37, 4, 37),\n",
                "        (38, 4, 38),\n",
                "        (39, 4, 39),\n",
                "        (40, 5, 40),\n",
                "        (41, 5, 41),\n",
                "        (42, 5, 42),\n",
                "        (43, 6, 43),\n",
                "        (44, 6, 44),\n",
                "        (45, 6, 45),\n",
                "        (46, 1, 5),\n",
                "        (47, 2, 5),\n",
                "        (48, 3, 5),\n",
                "        (49, 4, 10),\n",
                "        (50, 5, 10),\n",
                "        (51, 6, 10),\n",
                "        (52, 7, 20),\n",
                "        (53, 8, 20),\n",
                "        (54, 9, 20),\n",
                "        (55, 1, 25),\n",
                "        (56, 2, 25),\n",
                "        (57, 3, 25);\n",
                "\n",
                "        COMMIT;\n",
                "    END TRY\n",
                "    BEGIN CATCH\n",
                "        PRINT 'Error Message: ' + ERROR_MESSAGE();\n",
                "        ROLLBACK;\n",
                "    END CATCH;\n",
                ""
            ],
            "metadata": {
                "azdata_cell_guid": "56cd6190-ebc6-420d-89b2-d24cbeb16a08",
                "language": "sql",
                "tags": [
                    "hide_input"
                ]
            },
            "outputs": [],
            "execution_count": null
        },
        {
            "cell_type": "markdown",
            "source": [
                "Now that we have sucessfully added all of our data to our databases, let's run a quick query to verify that everything is working properly. The below query just selects all data from each table. All tables are joined."
            ],
            "metadata": {
                "language": "sql",
                "azdata_cell_guid": "821d7c29-75f1-4089-b7a4-c23ac31e8329"
            },
            "attachments": {}
        },
        {
            "cell_type": "code",
            "source": [
                "--View all data for the 57 tour groups in the data set\n",
                "SELECT *\n",
                "FROM ct_tour_guide as tg\n",
                "JOIN ct_tour as t ON tg.tour_guide_id = t.tour_guide_id\n",
                "JOIN ct_tour_group as tgr ON t.tour_id = tgr.tour_id \n",
                "JOIN ct_visitor as v ON tgr.visitor_id = v.visitor_id"
            ],
            "metadata": {
                "language": "sql",
                "azdata_cell_guid": "257967c7-e0ed-4065-8935-44241eef9280",
                "tags": []
            },
            "outputs": [],
            "execution_count": null
        },
        {
            "cell_type": "markdown",
            "source": [
                "Based on the above result we can conclude that our transactions were succesful. We will learn more about CREATE statements in a future lesson.\n",
                "\n",
                "✏️     **Practice**\n",
                "\n",
                "Administrators have decided that we must keep track of the department for each of the tour guides. The first step to this is adding a table to keep track of which departments there are on campus. In the below code cell, please construct a transaction to create a deparment table with the below structure, and insert the following data:\n",
                "\n",
                "ct\\_department structure:\n",
                "\n",
                "- dep\\_id INT\n",
                "- dep\\_name varchar(20)\n",
                "\n",
                "Data:\n",
                "|dep_id|dep_name|\n",
                "|---|---|\n",
                "|1|Communication|\n",
                "|2|Engineering|\n",
                "|3|Computer Science|\n",
                "|4|Health Sciences|\n",
                "|5|Agriculture|\n",
                ""
            ],
            "metadata": {
                "language": "sql",
                "azdata_cell_guid": "0b4f9f17-2195-42a7-84a0-05d504b2127c"
            },
            "attachments": {}
        },
        {
            "cell_type": "code",
            "source": [
                "--Your code here\n",
                ""
            ],
            "metadata": {
                "language": "sql",
                "azdata_cell_guid": "78b19baa-390a-4ca6-816a-1822f4446b3d"
            },
            "outputs": [],
            "execution_count": null
        },
        {
            "cell_type": "markdown",
            "source": [
                "## **Altering Database Objects**\n",
                "\n",
                "ALTER commands give us tools to update table structures after tables have been created. While there are many things you can do with ALTER ([You can learn about them here](https://www.techonthenet.com/sql_server/tables/alter_table.php)) we are going to focus on adding columns and modifying column data types.\n",
                "\n",
                "To add a colunmn to a table, we can use the ADD keyword. In the below example we will add the dep\\_id to ct\\_tour\\_guide to identify which department a tour guide belongs to."
            ],
            "metadata": {
                "language": "sql",
                "azdata_cell_guid": "cd9222a3-126e-4d61-80f5-026de371de30"
            },
            "attachments": {}
        },
        {
            "cell_type": "code",
            "source": [
                "--Add department id column to tour guide table\n",
                "ALTER TABLE ct_tour_guide\n",
                "ADD dep_id INT "
            ],
            "metadata": {
                "language": "sql",
                "azdata_cell_guid": "0eda67b5-5093-4498-a478-4220a5d227fc"
            },
            "outputs": [],
            "execution_count": null
        },
        {
            "cell_type": "markdown",
            "source": [
                "We use the same syntax to add a column to a table during an ALTER statement as we do when creating a table. The attribute name followed by the data type. The below cell will show all records in the ct\\_tour\\_guide so that we can verify that the column was added succesfully."
            ],
            "metadata": {
                "azdata_cell_guid": "013c5f38-bf6f-40c1-99ef-ab6c7ef02558"
            },
            "attachments": {}
        },
        {
            "cell_type": "code",
            "source": [
                "SELECT * FROM ct_tour_guide"
            ],
            "metadata": {
                "azdata_cell_guid": "25ab4a25-e80b-47e2-90e1-da6f662bd23e",
                "language": "sql"
            },
            "outputs": [],
            "execution_count": null
        },
        {
            "cell_type": "markdown",
            "source": [
                "We can see that the column that we added is null, so we will need to use an UPDATE script to add values to the table. We will put this in a transaction in case there is an error:"
            ],
            "metadata": {
                "language": "sql",
                "azdata_cell_guid": "e881632c-1666-45ff-a593-98a4836e7747"
            },
            "attachments": {}
        },
        {
            "cell_type": "code",
            "source": [
                "BEGIN TRANSACTION;\n",
                "    BEGIN TRY\n",
                "        UPDATE ct_tour_guide SET dep_id = 5 WHERE tour_guide_id = 1;\n",
                "        UPDATE ct_tour_guide SET dep_id = 4 WHERE tour_guide_id = 3;\n",
                "        UPDATE ct_tour_guide SET dep_id = 3 WHERE tour_guide_id = 4;\n",
                "        UPDATE ct_tour_guide SET dep_id = 2 WHERE tour_guide_id = 5;\n",
                "        UPDATE ct_tour_guide SET dep_id = 1 WHERE tour_guide_id = 2;\n",
                "        COMMIT;\n",
                "    END TRY\n",
                "    BEGIN CATCH\n",
                "        PRINT 'Error Message: ' + ERROR_MESSAGE();\n",
                "        ROLLBACK;\n",
                "    END CATCH"
            ],
            "metadata": {
                "language": "sql",
                "azdata_cell_guid": "9ae2b9fa-102c-40eb-9b39-98777d8ac84c"
            },
            "outputs": [],
            "execution_count": null
        },
        {
            "cell_type": "code",
            "source": [
                "--Check to see that values were updated properly\n",
                "SELECT * FROM ct_tour_guide"
            ],
            "metadata": {
                "language": "sql",
                "azdata_cell_guid": "4af20f62-fd7f-4ccf-aec4-d5c9e6c18676"
            },
            "outputs": [],
            "execution_count": null
        },
        {
            "cell_type": "markdown",
            "source": [
                "When updating data, it is typically best to use an update statement for ecah individual change to avoid errors or accidentally overwritting data. We can see from the above result that the dep\\_id is no longer null. It is always best to map out a database before you start creating tables so that you can do as few alterations as possible. Next we are going to update the data type of an existing field using an ALTER statement. We are doing this because the database produces errors when adding departments that have a name longer than 20 characters. Run the below cell to see what happens."
            ],
            "metadata": {
                "azdata_cell_guid": "05a44a2a-718a-4130-bf8c-5b947fafff90"
            },
            "attachments": {}
        },
        {
            "cell_type": "code",
            "source": [
                "INSERT INTO ct_department VALUES\n",
                "(6,'Advanced Mathmatics And Sciences')"
            ],
            "metadata": {
                "azdata_cell_guid": "26ef7a05-62b8-41b4-83ee-e30e7a919203",
                "language": "sql"
            },
            "outputs": [],
            "execution_count": null
        },
        {
            "cell_type": "markdown",
            "source": [
                "You should see an error message that describes trucating (shortening) the value so that it fits within the character limit and then the statement is terminated. To fix this we can ALTER the ct\\_department table to accomodate a longer character length for department names."
            ],
            "metadata": {
                "language": "",
                "azdata_cell_guid": "7f934c55-657d-43f7-aa55-62307542a36c"
            },
            "attachments": {}
        },
        {
            "cell_type": "code",
            "source": [
                "--Update dep_name column to hold up to 30 characters\n",
                "ALTER TABLE ct_department\n",
                "ALTER COLUMN dep_name VARCHAR(30)"
            ],
            "metadata": {
                "azdata_cell_guid": "c8af2470-121d-403b-acde-d1ceb26e4815",
                "language": "sql"
            },
            "outputs": [],
            "execution_count": null
        },
        {
            "cell_type": "markdown",
            "source": [
                "Now that the ALTER operation is complete we are able to add departments with greater than 30 characters. Please note that we have to ALTER both the table and column in that order for these types of changes.\n",
                "\n",
                "Run the below cell to verify that the change worked."
            ],
            "metadata": {
                "language": "sql",
                "azdata_cell_guid": "96d9d5a2-d04e-41b3-a055-b45fc08f876e"
            },
            "attachments": {}
        },
        {
            "cell_type": "code",
            "source": [
                "INSERT INTO ct_department VALUES\n",
                "(6,'Advanced Mathmatics And Sciences')"
            ],
            "metadata": {
                "language": "sql",
                "azdata_cell_guid": "6e9d4b5a-06b4-49a2-a28c-9f882968a4f3"
            },
            "outputs": [],
            "execution_count": null
        },
        {
            "cell_type": "markdown",
            "source": [
                "✏️     **Practice**\n",
                "\n",
                "It has been determined that allowing emails up to 50 characters long for visitors is a security risk. In the code cell below, update the email\\_address field to only allow for emails up to 40 characters."
            ],
            "metadata": {
                "language": "sql",
                "azdata_cell_guid": "291b51ab-4948-4fab-a762-d105a7ca071e"
            },
            "attachments": {}
        },
        {
            "cell_type": "code",
            "source": [
                "--Your code here"
            ],
            "metadata": {
                "language": "sql",
                "azdata_cell_guid": "52266d23-0f0d-45a6-a39b-a06011753fef"
            },
            "outputs": [],
            "execution_count": null
        },
        {
            "cell_type": "markdown",
            "source": [
                "## **Dropping Database Objects**\n",
                "\n",
                "Sometimes it is necessary to delete an entire table from a database. Sometimes this is due to a schema error that it would be too much trouble to update, or because the table needs to be recreated. When there is a problem with a student's table (accidentally updated/deleted all records) I use DROP statements to delete them and then recreate them. DROP statements have very simple syntax, so they are very easy to write! However, just as with UPDATE and DELETE statements, you should read DROP statements carefully before running them to verify that everything is correct.\n",
                "\n",
                "We do not want to drop any of the tables we have been using for this exercise, so instead we will create a simple temporary table that we can drop safely."
            ],
            "metadata": {
                "language": "sql",
                "azdata_cell_guid": "3ea6bad4-8c91-4236-b2a3-059d67ca2590"
            },
            "attachments": {}
        },
        {
            "cell_type": "code",
            "source": [
                "--Create temporary table with single column\n",
                "CREATE TABLE temp_table (\n",
                "    column1 INT\n",
                ")"
            ],
            "metadata": {
                "language": "sql",
                "azdata_cell_guid": "23f4da39-758c-452d-8492-4d3432995a97"
            },
            "outputs": [],
            "execution_count": null
        },
        {
            "cell_type": "markdown",
            "source": [
                "Now that we have a table to play with, we will delete it using the below cell:"
            ],
            "metadata": {
                "language": "sql",
                "azdata_cell_guid": "df4d5ddd-916d-44aa-a4a5-9c8d49c1eaba"
            },
            "attachments": {}
        },
        {
            "cell_type": "code",
            "source": [
                "DROP TABLE temp_table"
            ],
            "metadata": {
                "language": "sql",
                "azdata_cell_guid": "59f28651-3d21-42c7-91f1-21857d275b2b"
            },
            "outputs": [],
            "execution_count": null
        },
        {
            "cell_type": "markdown",
            "source": [
                "To drop a table we simply write DROP TABLE followed by the name of the table. Sometimes things like constraints or other rules can make these statements more complex, but that is an adventure for a future lesson."
            ],
            "metadata": {
                "language": "sql",
                "azdata_cell_guid": "24b6af90-f366-4e0e-9885-85e9d22c3696"
            },
            "attachments": {}
        },
        {
            "cell_type": "markdown",
            "source": [
                "## **Exercises / Scenario**\n",
                "\n",
                "You have been tasked with creating a database system to store information about music downloads. You must use a combination of CREATE, INSERT, UPDATE, ALTER, and SELECT statements to ensure the system is setup properly. Please see the provided ERD in github for information on how tables should be designed.\n",
                "\n",
                "**Note: Your create and insert queries should ignore information in blue. This information will be added in a later step via altering.**\n",
                "\n",
                "1\\. Script a CREATE transaction to create the user, download, and song tables described in the ERD. **Do not include artist\\_id** **in your create statement.**"
            ],
            "metadata": {
                "language": "sql",
                "azdata_cell_guid": "3d180bb4-2df9-4b6b-b2c4-de66da313c13"
            },
            "attachments": {}
        },
        {
            "cell_type": "code",
            "source": [
                "--Your code here\n",
                "CREATE TABLE md_user (\n",
                "    user_id INT PRIMARY KEY,\n",
                "    first_name VARCHAR(30),\n",
                "    last_name VARCHAR(30),\n",
                "    email_address VARCHAR(40)\n",
                ");\n",
                "\n",
                "CREATE TABLE md_song (\n",
                "    song_id INT PRIMARY KEY,\n",
                "    song_title VARCHAR(50),\n",
                "    genre VARCHAR(20)\n",
                ");\n",
                "\n",
                "CREATE TABLE md_download (\n",
                "    download_id INT PRIMARY KEY,\n",
                "    user_id INT,\n",
                "    song_id INT,\n",
                "    download_time DATETIME,\n",
                "    FOREIGN KEY (user_id) REFERENCES md_user(user_id),\n",
                "    FOREIGN KEY (song_id) REFERENCES md_song(song_id)\n",
                ");\n",
                ""
            ],
            "metadata": {
                "language": "sql",
                "azdata_cell_guid": "8c135759-647a-4ed2-9b29-a832de77bb04",
                "tags": []
            },
            "outputs": [
                {
                    "output_type": "display_data",
                    "data": {
                        "text/html": "Commands completed successfully."
                    },
                    "metadata": {}
                },
                {
                    "output_type": "display_data",
                    "data": {
                        "text/html": "Total execution time: 00:00:00.117"
                    },
                    "metadata": {}
                }
            ],
            "execution_count": 3
        },
        {
            "cell_type": "markdown",
            "source": [
                "2\\. Script an INSERT transaction that will insert the below data into the user, download, and song tables:"
            ],
            "metadata": {
                "language": "sql",
                "azdata_cell_guid": "891f7090-0768-472f-9e67-9cb206f8b835"
            },
            "attachments": {}
        },
        {
            "cell_type": "code",
            "source": [
                "--Your code here (Providing pre-written data for your convenience. 😎)\n",
                "-- Insert records into md_user table\n",
                "INSERT INTO md_user\n",
                "        (user_id, first_name, last_name, email_address)\n",
                "VALUES\n",
                "        (1, 'John', 'Doe', 'john.doe@example.com'),\n",
                "        (2, 'Jane', 'Smith', 'jane.smith@example.com'),\n",
                "        (3, 'Alice', 'Johnson', 'alice.johnson@example.com'),\n",
                "        (4, 'Bob', 'Brown', 'bob.brown@example.com'),\n",
                "        (5, 'Charlie', 'Davis', 'charlie.davis@example.com');\n",
                "\n",
                "-- Insert records into md_song table\n",
                "INSERT INTO md_song\n",
                "        (song_id, song_title, genre)\n",
                "VALUES\n",
                "        (1, 'Song One', 'Pop'),\n",
                "        (2, 'Song Two', 'Rock'),\n",
                "        (3, 'Song Three', 'Jazz'),\n",
                "        (4, 'Song Four', 'Classical'),\n",
                "        (5, 'Song Five', 'Hip Hop');\n",
                "\n",
                "-- Insert records into md_download table\n",
                "INSERT INTO md_download\n",
                "        (download_id, user_id, song_id, download_time)\n",
                "VALUES\n",
                "        (1, 1, 1, '2024-01-01 10:00:00'),\n",
                "        (2, 1, 2, '2024-01-01 11:00:00'),\n",
                "        (3, 2, 3, '2024-01-02 13:00:00'),\n",
                "        (4, 2, 4, '2024-01-02 14:00:00'),\n",
                "        (5, 3, 5, '2024-01-03 15:00:00'),\n",
                "        (6, 4, 1, '2024-01-04 12:00:00'),\n",
                "        (7, 4, 2, '2024-01-04 13:00:00'),\n",
                "        (8, 4, 3, '2024-01-04 17:00:00'),\n",
                "        (9, 5, 4, '2024-01-05 18:00:00'),\n",
                "        (10, 5, 5, '2024-01-05 19:00:00');\n",
                ""
            ],
            "metadata": {
                "language": "sql",
                "azdata_cell_guid": "292530f1-b05f-4044-a307-eb0bd30354f9"
            },
            "outputs": [
                {
                    "output_type": "display_data",
                    "data": {
                        "text/html": "(5 rows affected)"
                    },
                    "metadata": {}
                },
                {
                    "output_type": "display_data",
                    "data": {
                        "text/html": "(5 rows affected)"
                    },
                    "metadata": {}
                },
                {
                    "output_type": "display_data",
                    "data": {
                        "text/html": "(10 rows affected)"
                    },
                    "metadata": {}
                },
                {
                    "output_type": "display_data",
                    "data": {
                        "text/html": "Total execution time: 00:00:00.202"
                    },
                    "metadata": {}
                }
            ],
            "execution_count": 4
        },
        {
            "cell_type": "markdown",
            "source": [
                "3\\. Script two transactions that accomplishes the following:\n",
                "\n",
                "1. Transaction 1\n",
                "1. Create an artist table\n",
                "2. Insert the below data into the artist table\n",
                "3. Alter the song table to include an attribute for artist\\_id\n",
                "3. Transaction 2\n",
                "1. Update the song table to include the artist\\_id that should be associated with each song (see below for help)\n",
                "\n",
                "We are splitting this into two transactions to ensure that our ALTER statement is applied before we try to update records.\n",
                "\n",
                "**Arist Data**\n",
                "|artist_id|artist_first_name|artist_last_name|\n",
                "|---|---|---|\n",
                "|1|John|Lennon|\n",
                "|2|Paul|McCartney|\n",
                "|3|George|Harrison|\n",
                "|4|Ringo|Starr|\n",
                "|5|Elvis|Presley|\n",
                "\n",
                "**Song data with artist**\n",
                "|song_id|song_title|genre|artist_id|\n",
                "|---|---|---|---|\n",
                "|1|Song One|Pop|1|\n",
                "|2|Song Two|Rock|2|\n",
                "|3|Song Three|Jazz|3|\n",
                "|4|Song Four|Classical|4|\n",
                "|5|Song Five|Hip Hop|5|\n",
                ""
            ],
            "metadata": {
                "language": "sql",
                "azdata_cell_guid": "5c8bab02-1290-4abd-ae9b-4f7399165708"
            },
            "attachments": {}
        },
        {
            "cell_type": "code",
            "source": [
                "--Your code here\n",
                "-- Transaction 1:\n",
                "BEGIN TRANSACTION;\n",
                "\n",
                "CREATE TABLE md_artist\n",
                "(\n",
                "    artist_id INT PRIMARY KEY,\n",
                "    artist_fname VARCHAR(30),\n",
                "    artist_lname VARCHAR(30)\n",
                ");\n",
                "\n",
                "INSERT INTO md_artist\n",
                "    (artist_id, artist_fname, artist_lname)\n",
                "VALUES\n",
                "    (1, 'John', 'Lennon'),\n",
                "    (2, 'Paul', 'McCartney'),\n",
                "    (3, 'George', 'Harrison'),\n",
                "    (4, 'Ringo', 'Starr'),\n",
                "    (5, 'Elvis', 'Presley');\n",
                "\n",
                "ALTER TABLE md_song\n",
                "ADD artist_id INT;\n",
                "\n",
                "-- Transaction 2:\n",
                "BEGIN TRANSACTION;\n",
                "\n",
                "UPDATE md_song\n",
                "SET artist_id = 1\n",
                "WHERE song_id = 1;\n",
                "\n",
                "UPDATE md_song\n",
                "SET artist_id = 2\n",
                "WHERE song_id = 2;\n",
                "\n",
                "UPDATE md_song\n",
                "SET artist_id = 3\n",
                "WHERE song_id = 3;\n",
                "\n",
                "UPDATE md_song\n",
                "SET artist_id = 4\n",
                "WHERE song_id = 4;\n",
                "\n",
                "UPDATE md_song\n",
                "SET artist_id = 5\n",
                "WHERE song_id = 5;\n",
                "\n",
                "COMMIT;\n",
                "\n",
                ""
            ],
            "metadata": {
                "language": "sql",
                "azdata_cell_guid": "a4617ed6-0ba7-418b-8ef3-630f2026bfac"
            },
            "outputs": [
                {
                    "output_type": "display_data",
                    "data": {
                        "text/html": "(1 row affected)"
                    },
                    "metadata": {}
                },
                {
                    "output_type": "display_data",
                    "data": {
                        "text/html": "(1 row affected)"
                    },
                    "metadata": {}
                },
                {
                    "output_type": "display_data",
                    "data": {
                        "text/html": "(1 row affected)"
                    },
                    "metadata": {}
                },
                {
                    "output_type": "display_data",
                    "data": {
                        "text/html": "(1 row affected)"
                    },
                    "metadata": {}
                },
                {
                    "output_type": "display_data",
                    "data": {
                        "text/html": "(1 row affected)"
                    },
                    "metadata": {}
                },
                {
                    "output_type": "display_data",
                    "data": {
                        "text/html": "Total execution time: 00:00:00.098"
                    },
                    "metadata": {}
                }
            ],
            "execution_count": 8
        },
        {
            "cell_type": "markdown",
            "source": [
                "4\\. Construct a query that will show the number of songs that each artist has in the database. Include the artists first and last name as well as the number of songs."
            ],
            "metadata": {
                "language": "sql",
                "azdata_cell_guid": "7480af17-6c46-45dc-9b5b-ab349d68dbc5"
            },
            "attachments": {}
        },
        {
            "cell_type": "code",
            "source": [
                "--Your code here\n",
                "SELECT \n",
                "    a.artist_fname,\n",
                "    a.artist_lname,\n",
                "    COUNT(s.song_id) AS number_of_songs\n",
                "FROM \n",
                "    md_artist a\n",
                "LEFT JOIN \n",
                "    md_song s ON a.artist_id = s.artist_id\n",
                "GROUP BY \n",
                "    a.artist_fname,\n",
                "    a.artist_lname;\n",
                "\n",
                ""
            ],
            "metadata": {
                "language": "sql",
                "azdata_cell_guid": "daa6f5a9-4191-41d9-984c-f8dba57ba4a9",
                "tags": []
            },
            "outputs": [
                {
                    "output_type": "display_data",
                    "data": {
                        "text/html": "(5 rows affected)"
                    },
                    "metadata": {}
                },
                {
                    "output_type": "display_data",
                    "data": {
                        "text/html": "Total execution time: 00:00:00.185"
                    },
                    "metadata": {}
                },
                {
                    "output_type": "execute_result",
                    "metadata": {},
                    "execution_count": 10,
                    "data": {
                        "application/vnd.dataresource+json": {
                            "schema": {
                                "fields": [
                                    {
                                        "name": "artist_first_name"
                                    },
                                    {
                                        "name": "artist_last_name"
                                    },
                                    {
                                        "name": "number_of_songs"
                                    }
                                ]
                            },
                            "data": [
                                {
                                    "artist_first_name": "George",
                                    "artist_last_name": "Harrison",
                                    "number_of_songs": "1"
                                },
                                {
                                    "artist_first_name": "John",
                                    "artist_last_name": "Lennon",
                                    "number_of_songs": "1"
                                },
                                {
                                    "artist_first_name": "Paul",
                                    "artist_last_name": "McCartney",
                                    "number_of_songs": "1"
                                },
                                {
                                    "artist_first_name": "Elvis",
                                    "artist_last_name": "Presley",
                                    "number_of_songs": "1"
                                },
                                {
                                    "artist_first_name": "Ringo",
                                    "artist_last_name": "Starr",
                                    "number_of_songs": "1"
                                }
                            ]
                        },
                        "text/html": [
                            "<table>",
                            "<tr><th>artist_first_name</th><th>artist_last_name</th><th>number_of_songs</th></tr>",
                            "<tr><td>George</td><td>Harrison</td><td>1</td></tr>",
                            "<tr><td>John</td><td>Lennon</td><td>1</td></tr>",
                            "<tr><td>Paul</td><td>McCartney</td><td>1</td></tr>",
                            "<tr><td>Elvis</td><td>Presley</td><td>1</td></tr>",
                            "<tr><td>Ringo</td><td>Starr</td><td>1</td></tr>",
                            "</table>"
                        ]
                    }
                }
            ],
            "execution_count": 10
        },
        {
            "cell_type": "markdown",
            "source": [
                "5\\. Construct a query to show the amount of downloads that each user has completed. Include the user first and last name as well as the number of downloads."
            ],
            "metadata": {
                "language": "sql",
                "azdata_cell_guid": "7096ec9d-cc9e-4ef5-9471-289dffcd8f49"
            },
            "attachments": {}
        },
        {
            "cell_type": "code",
            "source": [
                "--Your code here\n",
                "SELECT \n",
                "    u.first_name,\n",
                "    u.last_name,\n",
                "    COUNT(d.download_id) AS number_of_downloads\n",
                "FROM \n",
                "    md_user u\n",
                "LEFT JOIN \n",
                "    md_download d ON u.user_id = d.user_id\n",
                "GROUP BY \n",
                "    u.first_name,\n",
                "    u.last_name;\n",
                ""
            ],
            "metadata": {
                "language": "sql",
                "azdata_cell_guid": "69d83659-751e-4195-a619-55f9fb2e810c"
            },
            "outputs": [
                {
                    "output_type": "display_data",
                    "data": {
                        "text/html": "(5 rows affected)"
                    },
                    "metadata": {}
                },
                {
                    "output_type": "display_data",
                    "data": {
                        "text/html": "Total execution time: 00:00:00.145"
                    },
                    "metadata": {}
                },
                {
                    "output_type": "execute_result",
                    "metadata": {},
                    "execution_count": 11,
                    "data": {
                        "application/vnd.dataresource+json": {
                            "schema": {
                                "fields": [
                                    {
                                        "name": "first_name"
                                    },
                                    {
                                        "name": "last_name"
                                    },
                                    {
                                        "name": "number_of_downloads"
                                    }
                                ]
                            },
                            "data": [
                                {
                                    "first_name": "Bob",
                                    "last_name": "Brown",
                                    "number_of_downloads": "3"
                                },
                                {
                                    "first_name": "Charlie",
                                    "last_name": "Davis",
                                    "number_of_downloads": "2"
                                },
                                {
                                    "first_name": "John",
                                    "last_name": "Doe",
                                    "number_of_downloads": "2"
                                },
                                {
                                    "first_name": "Alice",
                                    "last_name": "Johnson",
                                    "number_of_downloads": "1"
                                },
                                {
                                    "first_name": "Jane",
                                    "last_name": "Smith",
                                    "number_of_downloads": "2"
                                }
                            ]
                        },
                        "text/html": [
                            "<table>",
                            "<tr><th>first_name</th><th>last_name</th><th>number_of_downloads</th></tr>",
                            "<tr><td>Bob</td><td>Brown</td><td>3</td></tr>",
                            "<tr><td>Charlie</td><td>Davis</td><td>2</td></tr>",
                            "<tr><td>John</td><td>Doe</td><td>2</td></tr>",
                            "<tr><td>Alice</td><td>Johnson</td><td>1</td></tr>",
                            "<tr><td>Jane</td><td>Smith</td><td>2</td></tr>",
                            "</table>"
                        ]
                    }
                }
            ],
            "execution_count": 11
        },
        {
            "cell_type": "markdown",
            "source": [
                "6\\. Script a transaction that will drop all four of the music download tables from your database."
            ],
            "metadata": {
                "language": "sql",
                "azdata_cell_guid": "6e372c55-7ea9-4ac8-ba0d-105a00ed2d79"
            },
            "attachments": {}
        },
        {
            "cell_type": "code",
            "source": [
                "--Your code here\r\n",
                "BEGIN TRANSACTION;\r\n",
                "\r\n",
                "DROP TABLE md_download;\r\n",
                "DROP TABLE md_user;\r\n",
                "DROP TABLE md_song;\r\n",
                "DROP TABLE md_artist;\r\n",
                "\r\n",
                "COMMIT;\r\n",
                ""
            ],
            "metadata": {
                "language": "sql",
                "azdata_cell_guid": "549a8d1a-5a1d-47b9-8139-c71c6e9a1e96"
            },
            "outputs": [
{
    "output_type": "display_data",
    "data": {
        "text/html": "Commands completed successfully."
    },
    "metadata": {}
}, {
    "output_type": "display_data",
    "data": {
        "text/html": "Total execution time: 00:00:00.163"
    },
    "metadata": {}
}
],
            "execution_count": 12
        }
    ]
}